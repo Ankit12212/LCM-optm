{
 "cells": [
  {
   "cell_type": "code",
   "execution_count": 1,
   "id": "c6711121",
   "metadata": {},
   "outputs": [
    {
     "name": "stderr",
     "output_type": "stream",
     "text": [
      "c:\\Users\\Ankit Regmi\\anaconda3\\envs\\tf_notebook\\lib\\site-packages\\requests\\__init__.py:86: RequestsDependencyWarning: Unable to find acceptable character detection dependency (chardet or charset_normalizer).\n",
      "  warnings.warn(\n"
     ]
    }
   ],
   "source": [
    "import numpy as np\n",
    "import tensorflow as tf\n",
    "from tensorflow.keras.preprocessing import image"
   ]
  },
  {
   "cell_type": "code",
   "execution_count": 24,
   "id": "d7a46eaa",
   "metadata": {},
   "outputs": [],
   "source": [
    "model = tf.keras.models.load_model(\"best.keras\")\n",
    "\n",
    "if hasattr(model, 'class_names'):\n",
    "    class_names = model.class_names\n",
    "else:\n",
    "    class_names = ['lung_aca', 'lung_n', 'lung_scc']"
   ]
  },
  {
   "cell_type": "code",
   "execution_count": 27,
   "id": "ff401d56",
   "metadata": {},
   "outputs": [],
   "source": [
    "def predict_one_image(path):\n",
    "    global class_names\n",
    "    img = tf.keras.utils.load_img(path, target_size=(256, 256))\n",
    "    x   = tf.keras.utils.img_to_array(img)\n",
    "    x   = np.expand_dims(x, axis=0)\n",
    "    x = x / 255.0\n",
    "    probs = model.predict(x, verbose=0)\n",
    "    idx = np.argmax(probs[0])\n",
    "    return {\"label\": class_names[idx], \"prob\": float(probs[0][idx]), \"raw\": probs.tolist()}"
   ]
  },
  {
   "cell_type": "code",
   "execution_count": null,
   "id": "d53567cc",
   "metadata": {},
   "outputs": [
    {
     "name": "stdout",
     "output_type": "stream",
     "text": [
      "{'label': 'lung_aca', 'prob': 0.6851803064346313, 'raw': [[0.6851803064346313, 0.23333409428596497, 0.08148559182882309]]}\n"
     ]
    }
   ],
   "source": [
    "print(predict_one_image('.\\sample.jpg'))"
   ]
  },
  {
   "cell_type": "code",
   "execution_count": null,
   "id": "a234bed5",
   "metadata": {},
   "outputs": [],
   "source": []
  }
 ],
 "metadata": {
  "kernelspec": {
   "display_name": "Python (tf_notebook)",
   "language": "python",
   "name": "tf_notebook"
  },
  "language_info": {
   "codemirror_mode": {
    "name": "ipython",
    "version": 3
   },
   "file_extension": ".py",
   "mimetype": "text/x-python",
   "name": "python",
   "nbconvert_exporter": "python",
   "pygments_lexer": "ipython3",
   "version": "3.10.18"
  }
 },
 "nbformat": 4,
 "nbformat_minor": 5
}
